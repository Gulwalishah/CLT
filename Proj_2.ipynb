{
  "nbformat": 4,
  "nbformat_minor": 0,
  "metadata": {
    "colab": {
      "provenance": [],
      "authorship_tag": "ABX9TyOFTtR5IPAXLlNuUBCRfXkj",
      "include_colab_link": true
    },
    "kernelspec": {
      "name": "python3",
      "display_name": "Python 3"
    },
    "language_info": {
      "name": "python"
    }
  },
  "cells": [
    {
      "cell_type": "markdown",
      "metadata": {
        "id": "view-in-github",
        "colab_type": "text"
      },
      "source": [
        "<a href=\"https://colab.research.google.com/github/Gulwalishah/CLT/blob/main/Proj_2.ipynb\" target=\"_parent\"><img src=\"https://colab.research.google.com/assets/colab-badge.svg\" alt=\"Open In Colab\"/></a>"
      ]
    },
    {
      "cell_type": "code",
      "execution_count": 1,
      "metadata": {
        "colab": {
          "base_uri": "https://localhost:8080/"
        },
        "id": "SRCwsgH1IM9e",
        "outputId": "21978e96-caa3-49ce-93fe-33de8fb01edd"
      },
      "outputs": [
        {
          "output_type": "stream",
          "name": "stdout",
          "text": [
            "Downloading data from https://www.cs.toronto.edu/~kriz/cifar-10-python.tar.gz\n",
            "170498071/170498071 [==============================] - 3s 0us/step\n",
            "Epoch 1/10\n",
            "1563/1563 [==============================] - 77s 48ms/step - loss: 1.4919 - accuracy: 0.4568 - val_loss: 1.2930 - val_accuracy: 0.5389\n",
            "Epoch 2/10\n",
            "1563/1563 [==============================] - 73s 47ms/step - loss: 1.1437 - accuracy: 0.5958 - val_loss: 1.0857 - val_accuracy: 0.6149\n",
            "Epoch 3/10\n",
            "1563/1563 [==============================] - 73s 47ms/step - loss: 0.9939 - accuracy: 0.6513 - val_loss: 0.9664 - val_accuracy: 0.6585\n",
            "Epoch 4/10\n",
            "1563/1563 [==============================] - 72s 46ms/step - loss: 0.8910 - accuracy: 0.6863 - val_loss: 0.9629 - val_accuracy: 0.6674\n",
            "Epoch 5/10\n",
            "1563/1563 [==============================] - 73s 47ms/step - loss: 0.8153 - accuracy: 0.7164 - val_loss: 0.9402 - val_accuracy: 0.6772\n",
            "Epoch 6/10\n",
            "1563/1563 [==============================] - 73s 47ms/step - loss: 0.7484 - accuracy: 0.7393 - val_loss: 0.9192 - val_accuracy: 0.6853\n",
            "Epoch 7/10\n",
            "1563/1563 [==============================] - 74s 48ms/step - loss: 0.7001 - accuracy: 0.7514 - val_loss: 0.8903 - val_accuracy: 0.6977\n",
            "Epoch 8/10\n",
            "1563/1563 [==============================] - 73s 47ms/step - loss: 0.6559 - accuracy: 0.7702 - val_loss: 0.9227 - val_accuracy: 0.6944\n",
            "Epoch 9/10\n",
            "1563/1563 [==============================] - 71s 45ms/step - loss: 0.6165 - accuracy: 0.7810 - val_loss: 0.8601 - val_accuracy: 0.7172\n",
            "Epoch 10/10\n",
            "1563/1563 [==============================] - 72s 46ms/step - loss: 0.5784 - accuracy: 0.7950 - val_loss: 0.8896 - val_accuracy: 0.7135\n",
            "313/313 [==============================] - 4s 13ms/step - loss: 0.8896 - accuracy: 0.7135\n",
            "Test accuracy: 0.7135000228881836\n"
          ]
        }
      ],
      "source": [
        "import tensorflow as tf\n",
        "from tensorflow.keras import datasets, layers, models\n",
        "\n",
        "# Load dataset\n",
        "(train_images, train_labels), (test_images, test_labels) = datasets.cifar10.load_data()\n",
        "\n",
        "# Normalize pixel values\n",
        "train_images, test_images = train_images / 255.0, test_images / 255.0\n",
        "\n",
        "# Define CNN architecture\n",
        "model = models.Sequential([\n",
        "    layers.Conv2D(32, (3, 3), activation='relu', input_shape=(32, 32, 3)),\n",
        "    layers.MaxPooling2D((2, 2)),\n",
        "    layers.Conv2D(64, (3, 3), activation='relu'),\n",
        "    layers.MaxPooling2D((2, 2)),\n",
        "    layers.Conv2D(64, (3, 3), activation='relu'),\n",
        "    layers.Flatten(),\n",
        "    layers.Dense(64, activation='relu'),\n",
        "    layers.Dense(10)\n",
        "])\n",
        "\n",
        "# Compile model\n",
        "model.compile(optimizer='adam',\n",
        "              loss=tf.keras.losses.SparseCategoricalCrossentropy(from_logits=True),\n",
        "              metrics=['accuracy'])\n",
        "\n",
        "# Train model\n",
        "model.fit(train_images, train_labels, epochs=10, validation_data=(test_images, test_labels))\n",
        "\n",
        "# Evaluate model\n",
        "test_loss, test_acc = model.evaluate(test_images, test_labels)\n",
        "print(\"Test accuracy:\", test_acc)\n"
      ]
    }
  ]
}